{
 "cells": [
  {
   "cell_type": "code",
   "execution_count": 1,
   "id": "34644c0c-3658-4094-9024-9f181e851e7b",
   "metadata": {},
   "outputs": [],
   "source": [
    "import torch\n",
    "import re\n",
    "import os\n",
    "from tqdm import tqdm\n",
    "import random\n",
    "import numpy as np\n",
    "import pandas as pd\n",
    "from unsloth import FastLanguageModel\n",
    "from datasets import load_dataset, Dataset, DatasetDict\n",
    "from sklearn.metrics import accuracy_score, roc_auc_score, f1_score, recall_score, precision_score, confusion_matrix"
   ]
  },
  {
   "cell_type": "code",
   "execution_count": 2,
   "id": "b2159b1a-7d78-4d59-a90e-b8507c7171ce",
   "metadata": {},
   "outputs": [],
   "source": [
    "device = torch.device(\"cuda\" if torch.cuda.is_available() else \"cpu\")"
   ]
  },
  {
   "cell_type": "code",
   "execution_count": 3,
   "id": "c3d93bd9-4d9c-4b31-916f-39d286477a17",
   "metadata": {},
   "outputs": [],
   "source": [
    "model, tokenizer = FastLanguageModel.from_pretrained(\n",
    "    model_name=\"outputs/mistral-7b-instruct-v0.3-0921/checkpoint-20890\",\n",
    "    max_seq_length=2048,\n",
    "    dtype=None,\n",
    "    load_in_4bit=True,\n",
    ")"
   ]
  },
  {
   "cell_type": "code",
   "execution_count": 7,
   "id": "3b2ca2f2-6bfc-488c-99af-1bf4337fc883",
   "metadata": {},
   "outputs": [],
   "source": [
    "loan_data_path = \"example\"\n",
    "dataset = load_dataset(loan_data_path)\n",
    "val_data = dataset[\"validation\"]\n",
    "\n",
    "label_1_data = [data for data in val_data if data['label'] == 1]\n",
    "label_0_data = [data for data in val_data if data['label'] == 0]\n",
    "\n",
    "num_label_1 = len(label_1_data)\n",
    "balanced_label_0_data = random.sample(label_0_data, num_label_1)\n",
    "balanced_data = label_1_data + balanced_label_0_data\n",
    "\n",
    "# random data layout\n",
    "random.shuffle(balanced_data)\n",
    "\n",
    "dataset = Dataset.from_list(balanced_data)"
   ]
  },
  {
   "cell_type": "code",
   "execution_count": 8,
   "id": "4f6a17e0-8756-45cf-87a0-c414b1df38a1",
   "metadata": {},
   "outputs": [
    {
     "data": {
      "application/vnd.jupyter.widget-view+json": {
       "model_id": "f18ee3b805384eca9db7086d8b6dfca6",
       "version_major": 2,
       "version_minor": 0
      },
      "text/plain": [
       "Map:   0%|          | 0/518 [00:00<?, ? examples/s]"
      ]
     },
     "metadata": {},
     "output_type": "display_data"
    }
   ],
   "source": [
    "def rename_columns(data):\n",
    "    data[\"loan_data\"] = data.pop(\"text\")\n",
    "    data[\"loan_status\"] = data.pop(\"label\")\n",
    "    return data\n",
    "    \n",
    "dataset = dataset.map(rename_columns)"
   ]
  },
  {
   "cell_type": "code",
   "execution_count": 9,
   "id": "c29b3a1a-67c1-4c56-a1a0-139e28030e9c",
   "metadata": {},
   "outputs": [
    {
     "name": "stdout",
     "output_type": "stream",
     "text": [
      "Dataset({\n",
      "    features: ['loan_data', 'loan_status'],\n",
      "    num_rows: 518\n",
      "})\n"
     ]
    }
   ],
   "source": [
    "print(dataset)"
   ]
  },
  {
   "cell_type": "code",
   "execution_count": null,
   "id": "85a29683-72fc-43d3-a09e-12d23928bfc6",
   "metadata": {},
   "outputs": [],
   "source": [
    "prompt = \"\"\"You are a highly intelligent and detailed artificial intelligence assistant with a deep understanding of financial data, specifically in predicting loan defaults.\n",
    "Your task is to predict the given loan data into one of two possible outcomes:\n",
    "- 0: The loan is fully paid off (no default).\n",
    "- 1: The loan has defaulted (borrower failed to meet the repayment terms).\n",
    "\n",
    "Here is the loan data you need to classify:\n",
    "### Loan Data:\n",
    "{}\n",
    "\n",
    "### Predicted Loan Status:\n",
    "\"\"\""
   ]
  },
  {
   "cell_type": "code",
   "execution_count": null,
   "id": "14421033-9ce4-47c9-8aa6-485e8bb9ad54",
   "metadata": {},
   "outputs": [],
   "source": [
    "results_dir = \"results\"\n",
    "if not os.path.exists(results_dir):\n",
    "    os.makedirs(results_dir)\n",
    "\n",
    "results_path = os.path.join(results_dir, \"loan_prediction_metrics_full_data.csv\")\n",
    "\n",
    "if not os.path.exists(results_path):\n",
    "    with open(results_path, 'w') as f:\n",
    "        f.write(\"Loan_ID, True Label, Predicted Label, Accuracy, F1-Score, AUC, Precision, Recall, Specificity\\n\")\n",
    "        \n",
    "# 保证模型在评估模式下运行\n",
    "model.eval()\n",
    "\n",
    "TP = 0\n",
    "FP = 0\n",
    "TN = 0\n",
    "FN = 0\n",
    "\n",
    "true_labels = []\n",
    "predicted_labels = []\n",
    "\n",
    "for i, data in enumerate(tqdm(dataset, desc=\"Evaluating\")):\n",
    "    inputs = tokenizer(\n",
    "        [\n",
    "            prompt.format(\n",
    "                data['loan_data']  # 插入 loan_data 到 prompt 中\n",
    "            )\n",
    "        ],\n",
    "        return_tensors=\"pt\",  # 返回 PyTorch 张量\n",
    "        padding=True,  # 确保所有张量长度一致\n",
    "        truncation=True,  # 截断长的输入\n",
    "    ).to(\"cuda\")\n",
    "    \n",
    "    outputs = model.generate(**inputs, max_new_tokens=20, use_cache=True)\n",
    "    decoded_outputs = tokenizer.batch_decode(outputs, skip_special_tokens=True)\n",
    "    print(decoded_outputs)\n",
    "\n",
    "    matches = re.findall(r'Predicted Loan Status:\\n(\\d)', decoded_outputs[0])\n",
    "    predicted_label = int(matches[-1]) if matches else None\n",
    "    print(predicted_label)\n",
    "    if predicted_label is not None:\n",
    "        true_label = int(data['loan_status'])\n",
    "\n",
    "        if true_label == 1 and predicted_label == 1:\n",
    "            TP += 1\n",
    "        elif true_label == 0 and predicted_label == 1:\n",
    "            FP += 1\n",
    "        elif true_label == 0 and predicted_label == 0:\n",
    "            TN += 1\n",
    "        elif true_label == 1 and predicted_label == 0:\n",
    "            FN += 1\n",
    "\n",
    "        true_labels.append(true_label)\n",
    "        predicted_labels.append(predicted_label)\n",
    "        \n",
    "        total = TP + TN + FP + FN\n",
    "        accuracy = (TP + TN) / total if total else 0\n",
    "        precision = TP / (TP + FP) if (TP + FP) else 0\n",
    "        recall = TP / (TP + FN) if (TP + FN) else 0\n",
    "        f1 = 2 * precision * recall / (precision + recall) if (precision + recall) else 0\n",
    "        specificity = TN / (TN + FP) if (TN + FP) else 0\n",
    "\n",
    "        TPR = recall\n",
    "        FPR = FP / (FP + TN) if (FP + TN) else 0\n",
    "        auc = roc_auc_score(true_labels, predicted_labels) if len(set(true_labels)) > 1 else 0\n",
    "        \n",
    "        result = {\n",
    "            \"Loan_ID\": i,\n",
    "            \"True Label\": true_label,\n",
    "            \"Predicted Label\": predicted_label,\n",
    "            \"Accuracy\": accuracy,\n",
    "            \"F1 Score\": f1,\n",
    "            \"AUC\": auc,\n",
    "            \"Precision\": precision,\n",
    "            \"Recall\": recall,\n",
    "            \"Specificity\": specificity\n",
    "        }\n",
    "        \n",
    "        result_df = pd.DataFrame([result])\n",
    "        result_df.to_csv(results_path, mode='a', header=False, index=False)\n",
    "\n",
    "        print(f\"Loan Data {i}:\\n{data['loan_data']}\\nTrue label: {true_label}\\nPredicted label:\\n{predicted_label}\")\n",
    "\n",
    "print(f\"Metrics saved to {results_path}\")"
   ]
  },
  {
   "cell_type": "code",
   "execution_count": null,
   "id": "c8964ecd-aa43-4fd4-a014-a2eb063cf174",
   "metadata": {},
   "outputs": [],
   "source": []
  }
 ],
 "metadata": {
  "kernelspec": {
   "display_name": "Python 3 (ipykernel)",
   "language": "python",
   "name": "python3"
  },
  "language_info": {
   "codemirror_mode": {
    "name": "ipython",
    "version": 3
   },
   "file_extension": ".py",
   "mimetype": "text/x-python",
   "name": "python",
   "nbconvert_exporter": "python",
   "pygments_lexer": "ipython3",
   "version": "3.10.14"
  }
 },
 "nbformat": 4,
 "nbformat_minor": 5
}
