{
 "cells": [
  {
   "cell_type": "code",
   "id": "initial_id",
   "metadata": {
    "collapsed": true,
    "ExecuteTime": {
     "end_time": "2024-07-20T07:48:16.857345Z",
     "start_time": "2024-07-20T07:48:16.854438Z"
    }
   },
   "source": [
    "import re\n",
    "import os\n",
    "\n",
    "import pandas as pd\n",
    "import numpy as np"
   ],
   "outputs": [],
   "execution_count": 4
  },
  {
   "metadata": {
    "ExecuteTime": {
     "end_time": "2024-07-20T07:48:55.737700Z",
     "start_time": "2024-07-20T07:48:55.734121Z"
    }
   },
   "cell_type": "code",
   "source": [
    "root = os.getcwd()\n",
    "print(root)\n",
    "\n",
    "files = os.listdir(root)\n",
    "print(files)"
   ],
   "id": "d29b3ebc80a2c65",
   "outputs": [
    {
     "name": "stdout",
     "output_type": "stream",
     "text": [
      "/home/chuncheih/algorithm/FinLLM/current_data\n",
      "['mistral_ai_new_may29.ipynb', '.idea', 'accepted_2007_to_2018Q4.csv', 'data_pre.ipynb', 'Copy of lending_club_loan_two.csv', 'data_pre.ipynb.tmp', 'Copy of lending_club_info.csv', 'loan.csv']\n"
     ]
    }
   ],
   "execution_count": 6
  },
  {
   "metadata": {},
   "cell_type": "code",
   "outputs": [],
   "execution_count": null,
   "source": "",
   "id": "3d434dfb6556741a"
  }
 ],
 "metadata": {
  "kernelspec": {
   "display_name": "Python 3",
   "language": "python",
   "name": "python3"
  },
  "language_info": {
   "codemirror_mode": {
    "name": "ipython",
    "version": 2
   },
   "file_extension": ".py",
   "mimetype": "text/x-python",
   "name": "python",
   "nbconvert_exporter": "python",
   "pygments_lexer": "ipython2",
   "version": "2.7.6"
  }
 },
 "nbformat": 4,
 "nbformat_minor": 5
}
